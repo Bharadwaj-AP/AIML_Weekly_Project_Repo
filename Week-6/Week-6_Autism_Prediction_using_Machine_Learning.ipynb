{
 "cells": [
  {
   "cell_type": "markdown",
   "metadata": {},
   "source": [
    "### Importing Libraries"
   ]
  },
  {
   "cell_type": "code",
   "execution_count": 1,
   "metadata": {},
   "outputs": [],
   "source": [
    "import numpy as np\n",
    "import pandas as pd\n",
    "import matplotlib.pyplot as plt\n",
    "import seaborn as sb\n",
    "\n",
    "from sklearn.model_selection import train_test_split\n",
    "from sklearn.preprocessing import LabelEncoder, StandardScaler\n",
    "from sklearn import metrics\n",
    "from sklearn.svm import SVC\n",
    "from xgboost import XGBClassifier\n",
    "from sklearn.linear_model import LogisticRegression\n",
    "from imblearn.over_sampling import RandomOverSampler\n",
    "\n",
    "import warnings\n",
    "warnings.filterwarnings('ignore')"
   ]
  },
  {
   "cell_type": "markdown",
   "metadata": {},
   "source": [
    "### Data Pre-Processing"
   ]
  },
  {
   "cell_type": "code",
   "execution_count": 2,
   "metadata": {},
   "outputs": [
    {
     "name": "stdout",
     "output_type": "stream",
     "text": [
      "   ID  A1_Score  A2_Score  A3_Score  A4_Score  A5_Score  A6_Score  A7_Score  \\\n",
      "0   1         1         0         1         0         1         0         1   \n",
      "1   2         0         0         0         0         0         0         0   \n",
      "2   3         1         1         1         1         1         1         1   \n",
      "3   4         0         0         0         0         0         0         0   \n",
      "4   5         0         0         0         0         0         0         0   \n",
      "\n",
      "   A8_Score  A9_Score  ...  gender       ethnicity jaundice austim  \\\n",
      "0         0         1  ...       f               ?       no     no   \n",
      "1         0         0  ...       m               ?       no     no   \n",
      "2         1         1  ...       m  White-European       no    yes   \n",
      "3         0         0  ...       f               ?       no     no   \n",
      "4         0         0  ...       m               ?       no     no   \n",
      "\n",
      "   contry_of_res used_app_before     result     age_desc  relation Class/ASD  \n",
      "0        Austria              no   6.351166  18 and more      Self         0  \n",
      "1          India              no   2.255185  18 and more      Self         0  \n",
      "2  United States              no  14.851484  18 and more      Self         1  \n",
      "3  United States              no   2.276617  18 and more      Self         0  \n",
      "4   South Africa              no  -4.777286  18 and more      Self         0  \n",
      "\n",
      "[5 rows x 22 columns]\n"
     ]
    }
   ],
   "source": [
    "df = pd.read_csv('train.csv')\n",
    "print(df.head())"
   ]
  },
  {
   "cell_type": "code",
   "execution_count": 3,
   "metadata": {},
   "outputs": [
    {
     "data": {
      "text/plain": [
       "(800, 22)"
      ]
     },
     "execution_count": 3,
     "metadata": {},
     "output_type": "execute_result"
    }
   ],
   "source": [
    "df.shape"
   ]
  },
  {
   "cell_type": "code",
   "execution_count": 4,
   "metadata": {},
   "outputs": [
    {
     "name": "stdout",
     "output_type": "stream",
     "text": [
      "<class 'pandas.core.frame.DataFrame'>\n",
      "RangeIndex: 800 entries, 0 to 799\n",
      "Data columns (total 22 columns):\n",
      " #   Column           Non-Null Count  Dtype  \n",
      "---  ------           --------------  -----  \n",
      " 0   ID               800 non-null    int64  \n",
      " 1   A1_Score         800 non-null    int64  \n",
      " 2   A2_Score         800 non-null    int64  \n",
      " 3   A3_Score         800 non-null    int64  \n",
      " 4   A4_Score         800 non-null    int64  \n",
      " 5   A5_Score         800 non-null    int64  \n",
      " 6   A6_Score         800 non-null    int64  \n",
      " 7   A7_Score         800 non-null    int64  \n",
      " 8   A8_Score         800 non-null    int64  \n",
      " 9   A9_Score         800 non-null    int64  \n",
      " 10  A10_Score        800 non-null    int64  \n",
      " 11  age              800 non-null    float64\n",
      " 12  gender           800 non-null    object \n",
      " 13  ethnicity        800 non-null    object \n",
      " 14  jaundice         800 non-null    object \n",
      " 15  austim           800 non-null    object \n",
      " 16  contry_of_res    800 non-null    object \n",
      " 17  used_app_before  800 non-null    object \n",
      " 18  result           800 non-null    float64\n",
      " 19  age_desc         800 non-null    object \n",
      " 20  relation         800 non-null    object \n",
      " 21  Class/ASD        800 non-null    int64  \n",
      "dtypes: float64(2), int64(12), object(8)\n",
      "memory usage: 137.6+ KB\n"
     ]
    }
   ],
   "source": [
    "df.info()"
   ]
  },
  {
   "cell_type": "code",
   "execution_count": 5,
   "metadata": {},
   "outputs": [
    {
     "data": {
      "text/html": [
       "<div>\n",
       "<style scoped>\n",
       "    .dataframe tbody tr th:only-of-type {\n",
       "        vertical-align: middle;\n",
       "    }\n",
       "\n",
       "    .dataframe tbody tr th {\n",
       "        vertical-align: top;\n",
       "    }\n",
       "\n",
       "    .dataframe thead th {\n",
       "        text-align: right;\n",
       "    }\n",
       "</style>\n",
       "<table border=\"1\" class=\"dataframe\">\n",
       "  <thead>\n",
       "    <tr style=\"text-align: right;\">\n",
       "      <th></th>\n",
       "      <th>count</th>\n",
       "      <th>mean</th>\n",
       "      <th>std</th>\n",
       "      <th>min</th>\n",
       "      <th>25%</th>\n",
       "      <th>50%</th>\n",
       "      <th>75%</th>\n",
       "      <th>max</th>\n",
       "    </tr>\n",
       "  </thead>\n",
       "  <tbody>\n",
       "    <tr>\n",
       "      <th>ID</th>\n",
       "      <td>800.0</td>\n",
       "      <td>400.500000</td>\n",
       "      <td>231.084400</td>\n",
       "      <td>1.000000</td>\n",
       "      <td>200.750000</td>\n",
       "      <td>400.500000</td>\n",
       "      <td>600.250000</td>\n",
       "      <td>800.000000</td>\n",
       "    </tr>\n",
       "    <tr>\n",
       "      <th>A1_Score</th>\n",
       "      <td>800.0</td>\n",
       "      <td>0.560000</td>\n",
       "      <td>0.496697</td>\n",
       "      <td>0.000000</td>\n",
       "      <td>0.000000</td>\n",
       "      <td>1.000000</td>\n",
       "      <td>1.000000</td>\n",
       "      <td>1.000000</td>\n",
       "    </tr>\n",
       "    <tr>\n",
       "      <th>A2_Score</th>\n",
       "      <td>800.0</td>\n",
       "      <td>0.530000</td>\n",
       "      <td>0.499411</td>\n",
       "      <td>0.000000</td>\n",
       "      <td>0.000000</td>\n",
       "      <td>1.000000</td>\n",
       "      <td>1.000000</td>\n",
       "      <td>1.000000</td>\n",
       "    </tr>\n",
       "    <tr>\n",
       "      <th>A3_Score</th>\n",
       "      <td>800.0</td>\n",
       "      <td>0.450000</td>\n",
       "      <td>0.497805</td>\n",
       "      <td>0.000000</td>\n",
       "      <td>0.000000</td>\n",
       "      <td>0.000000</td>\n",
       "      <td>1.000000</td>\n",
       "      <td>1.000000</td>\n",
       "    </tr>\n",
       "    <tr>\n",
       "      <th>A4_Score</th>\n",
       "      <td>800.0</td>\n",
       "      <td>0.415000</td>\n",
       "      <td>0.493030</td>\n",
       "      <td>0.000000</td>\n",
       "      <td>0.000000</td>\n",
       "      <td>0.000000</td>\n",
       "      <td>1.000000</td>\n",
       "      <td>1.000000</td>\n",
       "    </tr>\n",
       "    <tr>\n",
       "      <th>A5_Score</th>\n",
       "      <td>800.0</td>\n",
       "      <td>0.395000</td>\n",
       "      <td>0.489157</td>\n",
       "      <td>0.000000</td>\n",
       "      <td>0.000000</td>\n",
       "      <td>0.000000</td>\n",
       "      <td>1.000000</td>\n",
       "      <td>1.000000</td>\n",
       "    </tr>\n",
       "    <tr>\n",
       "      <th>A6_Score</th>\n",
       "      <td>800.0</td>\n",
       "      <td>0.303750</td>\n",
       "      <td>0.460164</td>\n",
       "      <td>0.000000</td>\n",
       "      <td>0.000000</td>\n",
       "      <td>0.000000</td>\n",
       "      <td>1.000000</td>\n",
       "      <td>1.000000</td>\n",
       "    </tr>\n",
       "    <tr>\n",
       "      <th>A7_Score</th>\n",
       "      <td>800.0</td>\n",
       "      <td>0.397500</td>\n",
       "      <td>0.489687</td>\n",
       "      <td>0.000000</td>\n",
       "      <td>0.000000</td>\n",
       "      <td>0.000000</td>\n",
       "      <td>1.000000</td>\n",
       "      <td>1.000000</td>\n",
       "    </tr>\n",
       "    <tr>\n",
       "      <th>A8_Score</th>\n",
       "      <td>800.0</td>\n",
       "      <td>0.508750</td>\n",
       "      <td>0.500236</td>\n",
       "      <td>0.000000</td>\n",
       "      <td>0.000000</td>\n",
       "      <td>1.000000</td>\n",
       "      <td>1.000000</td>\n",
       "      <td>1.000000</td>\n",
       "    </tr>\n",
       "    <tr>\n",
       "      <th>A9_Score</th>\n",
       "      <td>800.0</td>\n",
       "      <td>0.495000</td>\n",
       "      <td>0.500288</td>\n",
       "      <td>0.000000</td>\n",
       "      <td>0.000000</td>\n",
       "      <td>0.000000</td>\n",
       "      <td>1.000000</td>\n",
       "      <td>1.000000</td>\n",
       "    </tr>\n",
       "    <tr>\n",
       "      <th>A10_Score</th>\n",
       "      <td>800.0</td>\n",
       "      <td>0.617500</td>\n",
       "      <td>0.486302</td>\n",
       "      <td>0.000000</td>\n",
       "      <td>0.000000</td>\n",
       "      <td>1.000000</td>\n",
       "      <td>1.000000</td>\n",
       "      <td>1.000000</td>\n",
       "    </tr>\n",
       "    <tr>\n",
       "      <th>age</th>\n",
       "      <td>800.0</td>\n",
       "      <td>28.452118</td>\n",
       "      <td>16.310966</td>\n",
       "      <td>2.718550</td>\n",
       "      <td>17.198153</td>\n",
       "      <td>24.848350</td>\n",
       "      <td>35.865429</td>\n",
       "      <td>89.461718</td>\n",
       "    </tr>\n",
       "    <tr>\n",
       "      <th>result</th>\n",
       "      <td>800.0</td>\n",
       "      <td>8.537303</td>\n",
       "      <td>4.807676</td>\n",
       "      <td>-6.137748</td>\n",
       "      <td>5.306575</td>\n",
       "      <td>9.605299</td>\n",
       "      <td>12.514484</td>\n",
       "      <td>15.853126</td>\n",
       "    </tr>\n",
       "    <tr>\n",
       "      <th>Class/ASD</th>\n",
       "      <td>800.0</td>\n",
       "      <td>0.201250</td>\n",
       "      <td>0.401185</td>\n",
       "      <td>0.000000</td>\n",
       "      <td>0.000000</td>\n",
       "      <td>0.000000</td>\n",
       "      <td>0.000000</td>\n",
       "      <td>1.000000</td>\n",
       "    </tr>\n",
       "  </tbody>\n",
       "</table>\n",
       "</div>"
      ],
      "text/plain": [
       "           count        mean         std       min         25%         50%  \\\n",
       "ID         800.0  400.500000  231.084400  1.000000  200.750000  400.500000   \n",
       "A1_Score   800.0    0.560000    0.496697  0.000000    0.000000    1.000000   \n",
       "A2_Score   800.0    0.530000    0.499411  0.000000    0.000000    1.000000   \n",
       "A3_Score   800.0    0.450000    0.497805  0.000000    0.000000    0.000000   \n",
       "A4_Score   800.0    0.415000    0.493030  0.000000    0.000000    0.000000   \n",
       "A5_Score   800.0    0.395000    0.489157  0.000000    0.000000    0.000000   \n",
       "A6_Score   800.0    0.303750    0.460164  0.000000    0.000000    0.000000   \n",
       "A7_Score   800.0    0.397500    0.489687  0.000000    0.000000    0.000000   \n",
       "A8_Score   800.0    0.508750    0.500236  0.000000    0.000000    1.000000   \n",
       "A9_Score   800.0    0.495000    0.500288  0.000000    0.000000    0.000000   \n",
       "A10_Score  800.0    0.617500    0.486302  0.000000    0.000000    1.000000   \n",
       "age        800.0   28.452118   16.310966  2.718550   17.198153   24.848350   \n",
       "result     800.0    8.537303    4.807676 -6.137748    5.306575    9.605299   \n",
       "Class/ASD  800.0    0.201250    0.401185  0.000000    0.000000    0.000000   \n",
       "\n",
       "                  75%         max  \n",
       "ID         600.250000  800.000000  \n",
       "A1_Score     1.000000    1.000000  \n",
       "A2_Score     1.000000    1.000000  \n",
       "A3_Score     1.000000    1.000000  \n",
       "A4_Score     1.000000    1.000000  \n",
       "A5_Score     1.000000    1.000000  \n",
       "A6_Score     1.000000    1.000000  \n",
       "A7_Score     1.000000    1.000000  \n",
       "A8_Score     1.000000    1.000000  \n",
       "A9_Score     1.000000    1.000000  \n",
       "A10_Score    1.000000    1.000000  \n",
       "age         35.865429   89.461718  \n",
       "result      12.514484   15.853126  \n",
       "Class/ASD    0.000000    1.000000  "
      ]
     },
     "execution_count": 5,
     "metadata": {},
     "output_type": "execute_result"
    }
   ],
   "source": [
    "df.describe().T"
   ]
  },
  {
   "cell_type": "markdown",
   "metadata": {},
   "source": [
    "#### Cleaning the Data"
   ]
  },
  {
   "cell_type": "code",
   "execution_count": 6,
   "metadata": {},
   "outputs": [
    {
     "data": {
      "text/plain": [
       "ethnicity\n",
       "White-European     257\n",
       "?                  203\n",
       "Middle Eastern      97\n",
       "Asian               67\n",
       "Black               47\n",
       "South Asian         34\n",
       "Pasifika            32\n",
       "Others              29\n",
       "Latino              17\n",
       "Hispanic             9\n",
       "Turkish              5\n",
       "others               3\n",
       "Name: count, dtype: int64"
      ]
     },
     "execution_count": 6,
     "metadata": {},
     "output_type": "execute_result"
    }
   ],
   "source": [
    "df['ethnicity'].value_counts()"
   ]
  },
  {
   "cell_type": "code",
   "execution_count": 7,
   "metadata": {},
   "outputs": [
    {
     "data": {
      "text/plain": [
       "relation\n",
       "Self                        709\n",
       "?                            40\n",
       "Parent                       29\n",
       "Relative                     18\n",
       "Others                        2\n",
       "Health care professional      2\n",
       "Name: count, dtype: int64"
      ]
     },
     "execution_count": 7,
     "metadata": {},
     "output_type": "execute_result"
    }
   ],
   "source": [
    "df['relation'].value_counts()"
   ]
  },
  {
   "cell_type": "code",
   "execution_count": 8,
   "metadata": {},
   "outputs": [],
   "source": [
    "df=df.replace({'yes':1, 'no':0, '?': 'Others', 'others':'Others'})"
   ]
  },
  {
   "cell_type": "markdown",
   "metadata": {},
   "source": [
    "#### Exploratory Data Analysis"
   ]
  },
  {
   "cell_type": "code",
   "execution_count": 9,
   "metadata": {},
   "outputs": [
    {
     "data": {
      "image/png": "[encoded data removed]",
      "text/plain": [
       "<Figure size 640x480 with 1 Axes>"
      ]
     },
     "metadata": {},
     "output_type": "display_data"
    }
   ],
   "source": [
    "plt.pie(df['Class/ASD'].value_counts().values, autopct='%1.1f%%')\n",
    "plt.show()"
   ]
  },
  {
   "cell_type": "code",
   "execution_count": 10,
   "metadata": {},
   "outputs": [],
   "source": [
    "ints = []\n",
    "objects = []\n",
    "floats = []\n",
    "\n",
    "for col in df.columns:\n",
    "    if df[col].dtype == int:\n",
    "        ints.append(col)\n",
    "    elif df[col].dtype == object:\n",
    "        objects.append(col)\n",
    "    else:\n",
    "        floats.append(col)"
   ]
  },
  {
   "cell_type": "code",
   "execution_count": 11,
   "metadata": {},
   "outputs": [
    {
     "ename": "ValueError",
     "evalue": "list.remove(x): x not in list",
     "output_type": "error",
     "traceback": [
      "\u001b[1;31m---------------------------------------------------------------------------\u001b[0m",
      "\u001b[1;31mValueError\u001b[0m                                Traceback (most recent call last)",
      "Cell \u001b[1;32mIn[11], line 1\u001b[0m\n\u001b[1;32m----> 1\u001b[0m ints\u001b[38;5;241m.\u001b[39mremove(\u001b[38;5;124m'\u001b[39m\u001b[38;5;124mID\u001b[39m\u001b[38;5;124m'\u001b[39m)\n\u001b[0;32m      2\u001b[0m ints\u001b[38;5;241m.\u001b[39mremove(\u001b[38;5;124m'\u001b[39m\u001b[38;5;124mClass/ASD\u001b[39m\u001b[38;5;124m'\u001b[39m)\n",
      "\u001b[1;31mValueError\u001b[0m: list.remove(x): x not in list"
     ]
    }
   ],
   "source": [
    "ints.remove('ID')\n",
    "ints.remove('Class/ASD')"
   ]
  },
  {
   "cell_type": "code",
   "execution_count": null,
   "metadata": {},
   "outputs": [],
   "source": []
  }
 ],
 "metadata": {
  "kernelspec": {
   "display_name": "base",
   "language": "python",
   "name": "python3"
  },
  "language_info": {
   "codemirror_mode": {
    "name": "ipython",
    "version": 3
   },
   "file_extension": ".py",
   "mimetype": "text/x-python",
   "name": "python",
   "nbconvert_exporter": "python",
   "pygments_lexer": "ipython3",
   "version": "3.12.7"
  }
 },
 "nbformat": 4,
 "nbformat_minor": 2
}
